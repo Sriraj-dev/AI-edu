{
 "cells": [
  {
   "cell_type": "markdown",
   "metadata": {},
   "source": [
    "## Hyperparameter Tuning"
   ]
  },
  {
   "cell_type": "markdown",
   "metadata": {},
   "source": [
    "We have different types of hyper parameters like:\n",
    "- learning rate\n",
    "- mini-batch size\n",
    "- regularization parameter (Dropout or L2)\n",
    "- beta1,beta2 , epsilon(adam optimization parameters) - Mostly we use standard values\n",
    "- no.of layers\n",
    "- no.of units\n",
    "- activation functions\n",
    "- learning rate decay"
   ]
  },
  {
   "cell_type": "markdown",
   "metadata": {},
   "source": [
    "Batch Normalisation helps us in tuning process as they give us a wide range of good working hyper parameters."
   ]
  },
  {
   "cell_type": "markdown",
   "metadata": {},
   "source": []
  }
 ],
 "metadata": {
  "language_info": {
   "name": "python"
  },
  "orig_nbformat": 4
 },
 "nbformat": 4,
 "nbformat_minor": 2
}
