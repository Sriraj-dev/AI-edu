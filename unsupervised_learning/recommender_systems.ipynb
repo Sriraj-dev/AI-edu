{
 "cells": [
  {
   "cell_type": "markdown",
   "metadata": {},
   "source": [
    "# Recommender Systems"
   ]
  },
  {
   "cell_type": "markdown",
   "metadata": {},
   "source": [
    "We will discuss the intuitions and development of recommender systems. \n",
    "\n",
    "Firstly lets try to understand the movie recommendation system which will be similar to other systems.\n"
   ]
  },
  {
   "cell_type": "markdown",
   "metadata": {},
   "source": [
    "## Recommendation using features of movies"
   ]
  },
  {
   "cell_type": "markdown",
   "metadata": {},
   "source": [
    "- Features here means the genres of movies, if we somehow can understand the users preferred genre , we can make better predictions for them.\\\n",
    "- As we already have the features of the movies for which the user has rated, we can get the estimate of his preferences by adjusting the weights to genres of that particular user.\\\n",
    "- Let us suppose if a person rated action movies more, then we can adjust more weight to action genre etc..\n",
    "- Here goes the cost function of a particular user(j), where r(i,j) states whether jth user has rated ith movie or not.\n",
    "- xi is the list of genres(features of the movie)."
   ]
  },
  {
   "cell_type": "markdown",
   "metadata": {},
   "source": [
    "\n",
    "![Alt text](./images/image.png )"
   ]
  },
  {
   "cell_type": "markdown",
   "metadata": {},
   "source": [
    "- Here is the cost function evaluated for all the users, where nu is the number of users. Just by adding the summation term to the above function."
   ]
  },
  {
   "cell_type": "markdown",
   "metadata": {},
   "source": [
    "![Alt text](./images/image-1.png)"
   ]
  },
  {
   "cell_type": "markdown",
   "metadata": {},
   "source": [
    "- By minimising the cost function , we can expect that our model will predict the expected rating that a movie can get from a particular user where the input will be the genres(features / xi) of that movie."
   ]
  },
  {
   "cell_type": "markdown",
   "metadata": {},
   "source": [
    "## What if we dont have features?"
   ]
  },
  {
   "cell_type": "markdown",
   "metadata": {},
   "source": [
    "- As we do not have features, we might have a way to actually predict the features of a particular movie.\n",
    "- Let us suppose, that we already have the W(weights) of the users who has given rating for the movie, we will later look into on how we actually have those weights.\n",
    "- So just to give you a intuition, as you have weights, you already know what kind of people rated the movie which can help you to get a sense of what kind of movie it is(eventually predicting the features).\n",
    "- That means, people who rated the movie are helping us in predicting the features of the movie which is opposite of the first case where features of the movie are helping us to understand the preferences of the person(weights).\n",
    "- For example, if a eprson who has more weight to the action genre has rated 5 stars, that means there is a high chance that the movie is of action genre & so we adjust the features of that movie accordingly.\n",
    "- So, now let us look at the cost function where xi is the variable in this case:"
   ]
  },
  {
   "cell_type": "markdown",
   "metadata": {},
   "source": [
    "<img src = \"./images/image-2.png\" alt = \"Cost function\" width = \"700\"/>"
   ]
  },
  {
   "cell_type": "markdown",
   "metadata": {},
   "source": [
    "- By minimising this cost function, you can predict the features of the movies.\n",
    "- But in this case, we have assumed that we already have the weights , lets look at the intuition on how we actually had those weights."
   ]
  },
  {
   "cell_type": "markdown",
   "metadata": {},
   "source": [
    "## Recommender System using Collaborative filtering"
   ]
  },
  {
   "cell_type": "markdown",
   "metadata": {},
   "source": [
    "- In the previous 2 sections you might have observed:\n",
    "    - We learnt how to predict the users rating with the given moive features\n",
    "    - We learnt how to predict the movies features depending on the weights of the users who rated that movie.\n",
    "- This was only possible because we have the weights of multiple users & hence the name collaborative filtering.\n",
    "- If you think about it clearly, you might have noticed that features help us to get understanding on users preferences & also users preferences help us to understand the features of the movie.\n",
    "- What if we can combine these two methods, which we can see in the below slide:"
   ]
  },
  {
   "cell_type": "markdown",
   "metadata": {},
   "source": [
    "<img src = \"./images/image-4.png\" alt = \"Collaborative filtering\" width = \"700\"/>"
   ]
  },
  {
   "cell_type": "markdown",
   "metadata": {},
   "source": [
    "- By minimising this cost function, we will be able to get the weights & genres of movies accurately.\n",
    "- Basically by using the given ratings of the movies, we are trying to adjust the weights of the users(preferences) as well as the features of the movies (say genres)"
   ]
  },
  {
   "cell_type": "markdown",
   "metadata": {},
   "source": [
    "### What if we have binary labels(Likes,Fav,clicks)"
   ]
  },
  {
   "cell_type": "markdown",
   "metadata": {},
   "source": [
    "- Usualy in case of binary labels, we have particularly 3 labels:\n",
    "    - 1: to represent that user has engaged(liked,Fav,viewed completely) with the content.\n",
    "    - 0: to represent that user has not engaged with the content (skipped, disliked etc..).\n",
    "    - ?: to represent that user has not yet shown this content.\n",
    "- It may also depend on the specific application on how they want to use these binary labels, but this is a general intuition on how the labels are used.\n",
    "- Similar to the previous case but the output here is a binary label, such as 0 or 1, which brings the logistic regression instead of linear regression, which changes our cost function a little bit as follows:"
   ]
  },
  {
   "cell_type": "markdown",
   "metadata": {},
   "source": [
    "<img src=\"./images/image-5.png\" width=\"700\"/>"
   ]
  },
  {
   "cell_type": "markdown",
   "metadata": {},
   "source": [
    "### Mean Normalization"
   ]
  },
  {
   "cell_type": "markdown",
   "metadata": {},
   "source": [
    "- If you have a new user into you system and ofc he has not rated any movies yet. In this case, it will adjust all the weights of new user to be 0 which may not be the most efficient way for the recommender system."
   ]
  },
  {
   "cell_type": "markdown",
   "metadata": {},
   "source": [
    "<img src = \"./images/image-6.png\" width = \"600\"/>"
   ]
  },
  {
   "cell_type": "markdown",
   "metadata": {},
   "source": [
    "- So, we take the mean normalisation in every row (movie rating - average rating of a movie),which gives us an idea of average rating of that movie.\n",
    "- Now, the new values formed after mean normalisation are considered as y_ij & for user j the predicition value would become = (w_j * x_i) + (b_j) + mu_i (we add the mu_i to get the actual prediciton as we have substracted the same value before)\n",
    "- Now, the prediction value for the new user wont be 0 but instead the average rating of the movie which makes more sense than to predict a 0 rating for every movie."
   ]
  },
  {
   "cell_type": "markdown",
   "metadata": {},
   "source": [
    "<img src = \"./images/image-7.png\" width = \"600\"/>"
   ]
  },
  {
   "cell_type": "markdown",
   "metadata": {},
   "source": [
    "- Actually, in case of a new movie we can also do the mean normalisation on the column instead of a row, which gives the average rating of that user and assign it to the movie in the beginning.\n",
    "- But it is usually not considered as a best practice, as the new movie may not be even closely related to the user & giving it a higher rating just on the basis of average rating of that user, wont be efficient recommender system."
   ]
  },
  {
   "cell_type": "markdown",
   "metadata": {},
   "source": [
    "- **Advantage :** This makes algorithm to work faster , but more importantly it helps model to predict the ratings for new users efficiently."
   ]
  },
  {
   "cell_type": "markdown",
   "metadata": {},
   "source": [
    "### Tensorflow implementation"
   ]
  },
  {
   "cell_type": "markdown",
   "metadata": {},
   "source": [
    "<img src = \"./images/image-8.png\" width = \"600\"/>"
   ]
  },
  {
   "cell_type": "markdown",
   "metadata": {},
   "source": [
    "<img src = \"./images/image-9.png\" width = \"600\"/>"
   ]
  },
  {
   "cell_type": "markdown",
   "metadata": {},
   "source": [
    "### Find Related Items"
   ]
  },
  {
   "cell_type": "markdown",
   "metadata": {},
   "source": [
    "<img src = \"./images/image-10.png\" width = \"600\"/>"
   ]
  },
  {
   "cell_type": "markdown",
   "metadata": {},
   "source": [
    "<img src = \"./images/image-11.png\" width = \"600\"/>"
   ]
  },
  {
   "cell_type": "markdown",
   "metadata": {},
   "source": [
    "## Recommender using content based filtering"
   ]
  },
  {
   "cell_type": "markdown",
   "metadata": {},
   "source": [
    "- In collaborative filtering ,we recommend movies based on the users who rated that movie and have similar ratings as of yours.\n",
    "- Whereas in content based filtering, you consider the features of users(Age, gender, country,movies watched.etc) & also the features of movies(year,genre/genres,reviews, average rating..etc).\n",
    "- prediction in case of content based filtering = v_u_j . v_m_i (rating of jth user on ith movie). We need to determine v_u_j & v_m_i using the features of user(x_u_j) & features of movie(x_m_i)."
   ]
  },
  {
   "cell_type": "markdown",
   "metadata": {},
   "source": [
    "<img src = \"image-1.png\" width = \"600\"/>"
   ]
  },
  {
   "cell_type": "markdown",
   "metadata": {},
   "source": [
    "<img src = \"image-2.png\" width = \"600\"/>"
   ]
  },
  {
   "cell_type": "markdown",
   "metadata": {},
   "source": [
    "- The cost function is similar to collaborative filtering but the predicition technique is differed.\n",
    "- Similar to previous case, if we want to get the recommendations of similar movies we can take the squared distance between x_m_i & x_m_k as they represent the features of movies i & k(iterative)."
   ]
  },
  {
   "cell_type": "markdown",
   "metadata": {},
   "source": [
    "<img src=\"image-3.png\" width = \"600\"/>"
   ]
  },
  {
   "cell_type": "markdown",
   "metadata": {},
   "source": [
    "### Scaling the system to larger catalogue"
   ]
  },
  {
   "cell_type": "markdown",
   "metadata": {},
   "source": [
    "- In large applications like youtube, instagram, we have 100M+ videos & 10M+ ads & huge amount of data.\n",
    "- If a user comes on to the application with user features x_u_j, application has to run the neural network for all the x_m to get good predictions for v_u & it occurs everytime the user opens the application which is not at all scalable with large no. of x_m.\n",
    "- So, instead of trying to find predictions from the entire dataset, we can first try by getting the list of all the plausible predictions for that user, this method is called retrieval."
   ]
  },
  {
   "cell_type": "markdown",
   "metadata": {},
   "source": [
    "<img src=\"image-4.png\" width = \"600\"/>"
   ]
  },
  {
   "cell_type": "markdown",
   "metadata": {},
   "source": [
    "<img src = \"image-5.png\" width = \"600\"/>"
   ]
  },
  {
   "cell_type": "markdown",
   "metadata": {},
   "source": [
    "- Now, using the list we got from the retrieval step, rank all the items based on the predicition & this process is called ranking.\n",
    "- Usually this retrieval step is pre computed and is usually fast. We also need to analyse on the size of the list in the retreival process that will give faster & better recommendations.\n",
    "- Obv, as the size of the list increases, predictions become better at the cost of the speed of the computation."
   ]
  },
  {
   "cell_type": "markdown",
   "metadata": {},
   "source": [
    "<img src = \"image-6.png\" width = \"600\"/>"
   ]
  },
  {
   "cell_type": "markdown",
   "metadata": {},
   "source": [
    "### Tensorflow implementation"
   ]
  },
  {
   "cell_type": "markdown",
   "metadata": {},
   "source": [
    "<img src = \"image-7.png\" width = \"600\"/>"
   ]
  },
  {
   "cell_type": "markdown",
   "metadata": {},
   "source": []
  }
 ],
 "metadata": {
  "language_info": {
   "name": "python"
  },
  "orig_nbformat": 4
 },
 "nbformat": 4,
 "nbformat_minor": 2
}
