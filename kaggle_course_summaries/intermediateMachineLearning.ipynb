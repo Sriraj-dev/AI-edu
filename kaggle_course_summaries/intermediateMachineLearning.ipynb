{
 "cells": [
  {
   "cell_type": "markdown",
   "metadata": {},
   "source": [
    "Module is all about improving the quality of your ML model.\n",
    "Topics covered:\n",
    "- Missing values / categorical values\n",
    "- building pipelines\n",
    "- Cross-validation sets ko kaise use krte hai\n",
    "- XGBoost\n",
    "- Handling Leakage"
   ]
  },
  {
   "cell_type": "markdown",
   "metadata": {},
   "source": [
    "## Computing Missing Values"
   ]
  },
  {
   "cell_type": "markdown",
   "metadata": {},
   "source": [
    "- Dropping the columns with missing values.\n",
    "    - We might miss out a lot of valuable information"
   ]
  },
  {
   "cell_type": "markdown",
   "metadata": {},
   "source": [
    "- Replace the missing values with the mean of that column using SimpleImputer\n"
   ]
  },
  {
   "cell_type": "markdown",
   "metadata": {},
   "source": [
    "- Impute the missing values while also keeping track of the missing values\n",
    "    - We create a new column (size_is_missing with values True/False) which indicates whether the column \"size\" has a missing value in original data or not."
   ]
  },
  {
   "cell_type": "markdown",
   "metadata": {},
   "source": [
    "## Handling Categorical Varaibles"
   ]
  },
  {
   "cell_type": "markdown",
   "metadata": {},
   "source": [
    "- Removing those columns\n",
    "    - Works only if those columns doesnt have valuable info"
   ]
  },
  {
   "cell_type": "markdown",
   "metadata": {},
   "source": [
    "- Encoding\n",
    "    - Giving a unique integer to every category\n",
    "    - This works if categories have some ordering\n",
    "    - There are chances that test/validation sets might have a new category which training set doesnt have, such columns can be dropped or can be handled using manual encoders instead of using scikit-learn.(or may be my intuition says, you can fit the encoder on overall X, then can transoform X_train/test/validation sets)"
   ]
  },
  {
   "cell_type": "markdown",
   "metadata": {},
   "source": [
    "- One - hot encoding\n",
    "    - Creates new columns and only one of those will be true.\n",
    "    - Works well, in case there are no orderings in the categories.\n",
    "    - High cardinality elements(> 10) are not preferred to One-hot encoding as they can greatly expand the size of the dataset.Such columns can be dropped or handled using Ordinal encoding."
   ]
  },
  {
   "cell_type": "markdown",
   "metadata": {},
   "source": [
    "* Categorical variables has dtype == 'object'.\n"
   ]
  },
  {
   "cell_type": "markdown",
   "metadata": {},
   "source": []
  }
 ],
 "metadata": {
  "kernelspec": {
   "display_name": "base",
   "language": "python",
   "name": "python3"
  },
  "language_info": {
   "codemirror_mode": {
    "name": "ipython",
    "version": 3
   },
   "file_extension": ".py",
   "mimetype": "text/x-python",
   "name": "python",
   "nbconvert_exporter": "python",
   "pygments_lexer": "ipython3",
   "version": "3.10.13"
  },
  "orig_nbformat": 4
 },
 "nbformat": 4,
 "nbformat_minor": 2
}
